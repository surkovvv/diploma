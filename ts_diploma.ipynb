{
  "cells": [
    {
      "cell_type": "code",
      "execution_count": null,
      "metadata": {
        "id": "01b9e952"
      },
      "outputs": [],
      "source": [
        "from warnings import filterwarnings\n",
        "\n",
        "filterwarnings(\"ignore\")"
      ],
      "id": "01b9e952"
    },
    {
      "cell_type": "code",
      "execution_count": null,
      "metadata": {
        "id": "YUv2cuKZO3bn"
      },
      "outputs": [],
      "source": [
        "!pip install catboost\n",
        "!pip install gplearn\n",
        "!pip install tbats\n",
        "!pip install pmdarima\n",
        "!pip install etna"
      ],
      "id": "YUv2cuKZO3bn"
    },
    {
      "cell_type": "code",
      "execution_count": null,
      "metadata": {
        "id": "d5bc58b2"
      },
      "outputs": [],
      "source": [
        "from datetime import datetime\n",
        "import typing as tp\n",
        "\n",
        "from IPython.display import display\n",
        "from pylab import rcParams\n",
        "import matplotlib.pyplot as plt\n",
        "import numpy as np\n",
        "import pandas as pd\n",
        "import seaborn as sns\n",
        "\n",
        "from sklearn.metrics import (\n",
        "    mean_squared_error,\n",
        "    mean_absolute_error,\n",
        "    mean_absolute_percentage_error,\n",
        ")\n",
        "from sklearn.preprocessing import OneHotEncoder\n",
        "from sklearn.model_selection import RandomizedSearchCV, TimeSeriesSplit\n",
        "\n",
        "import xgboost\n",
        "from catboost import CatBoostRegressor\n",
        "from sklearn.ensemble import RandomForestRegressor\n",
        "\n",
        "import statsmodels\n",
        "import statsmodels.api as sm\n",
        "from statsmodels.stats.proportion import proportion_confint\n",
        "from statsmodels.tsa.seasonal import seasonal_decompose, STL\n",
        "\n",
        "from gplearn.genetic import SymbolicRegressor\n",
        "from tbats import TBATS, BATS\n",
        "from pmdarima import auto_arima\n",
        "\n",
        "from etna.metrics import SMAPE\n",
        "from etna.pipeline import AutoRegressivePipeline\n",
        "\n",
        "\n",
        "rcParams[\"figure.figsize\"] = 15, 7\n",
        "\n",
        "sns.set(palette=\"Set2\", font_scale=1.3)"
      ],
      "id": "d5bc58b2"
    },
    {
      "cell_type": "markdown",
      "metadata": {
        "id": "d41b2607"
      },
      "source": [
        "# Сведение задачи прогнозирования временного ряда к регрессии"
      ],
      "id": "d41b2607"
    },
    {
      "cell_type": "code",
      "execution_count": null,
      "metadata": {
        "id": "f1ffa78c"
      },
      "outputs": [],
      "source": [
        "df1 = pd.read_csv('dataset_v0.csv', parse_dates=['SaleDateTime'], dayfirst=True)\n",
        "df2 = pd.read_csv('dataset.csv', parse_dates=['SaleDateTime'], dayfirst=True)\n",
        "df2.drop(columns=['Unnamed: 0', 'CheckDateTime'], inplace=True)\n",
        "df3 = pd.read_csv('result_615246.csv', parse_dates=['SaleDateTime'], dayfirst=True)\n",
        "df3.drop(columns=['Unnamed: 0', 'CheckDateTime'], inplace=True)\n",
        "\n",
        "df = pd.concat([df1, df2, df3], ignore_index=True)\n",
        "df.shape"
      ],
      "id": "f1ffa78c"
    },
    {
      "cell_type": "code",
      "execution_count": null,
      "metadata": {
        "id": "iLBSzgbaPUGT"
      },
      "outputs": [],
      "source": [
        "df.drop(columns=['SaleId', 'DeviceId', 'ShopId', 'CompanyId', 'Sum', 'ServerDateTime', 'IsFiscal'], \n",
        "        inplace=True)\n",
        "\n",
        "df.head(3)"
      ],
      "id": "iLBSzgbaPUGT"
    },
    {
      "cell_type": "code",
      "execution_count": null,
      "metadata": {
        "id": "WMyNOS9PQ55f"
      },
      "outputs": [],
      "source": [
        "goods = pd.read_csv('goods.csv')\n",
        "goods.drop(columns=['CompanyId', 'UnitType', 'TaxType', 'Barcode', 'Price', 'ProductName',\n",
        "                    'AccuracyType', 'ShortCodes', 'ProductDescription'], inplace=True)"
      ],
      "id": "WMyNOS9PQ55f"
    },
    {
      "cell_type": "code",
      "execution_count": null,
      "metadata": {
        "id": "kbuNMtYYQ_Hy"
      },
      "outputs": [],
      "source": [
        "df = df.merge(goods, how='left', on='ProductId')\n",
        "df.sample(3)"
      ],
      "id": "kbuNMtYYQ_Hy"
    },
    {
      "cell_type": "code",
      "execution_count": null,
      "metadata": {
        "id": "EgMs0AJpRDDT"
      },
      "outputs": [],
      "source": [
        "df['date'] = df['SaleDateTime'].dt.normalize()\n",
        "df.drop(columns=['SaleDateTime', 'ProductId', 'PositionId'], axis=1, inplace=True)"
      ],
      "id": "EgMs0AJpRDDT"
    },
    {
      "cell_type": "code",
      "execution_count": null,
      "metadata": {
        "id": "v_XVC7I2HoSw"
      },
      "outputs": [],
      "source": [
        "df.groupby('date').sum()['Quantity']"
      ],
      "id": "v_XVC7I2HoSw"
    },
    {
      "cell_type": "code",
      "source": [
        "df['GroupId'].value_counts()"
      ],
      "metadata": {
        "id": "8XBnTro5ETqw"
      },
      "id": "8XBnTro5ETqw",
      "execution_count": null,
      "outputs": []
    },
    {
      "cell_type": "code",
      "execution_count": null,
      "metadata": {
        "id": "aLE_Ip33H1WI"
      },
      "outputs": [],
      "source": [
        "res = STL(df.groupby('date').sum()['Quantity'], period=7).fit()\n",
        "res.plot();"
      ],
      "id": "aLE_Ip33H1WI"
    },
    {
      "cell_type": "markdown",
      "source": [
        "## Все теги сразу анализировать не получится: выбираем конкретный и делаем всё для него"
      ],
      "metadata": {
        "id": "qOfil__Ew8B7"
      },
      "id": "qOfil__Ew8B7"
    },
    {
      "cell_type": "code",
      "execution_count": null,
      "metadata": {
        "id": "42l-z7WJVu1W"
      },
      "outputs": [],
      "source": [
        "TAG = 213"
      ],
      "id": "42l-z7WJVu1W"
    },
    {
      "cell_type": "code",
      "execution_count": null,
      "metadata": {
        "id": "447f12d4"
      },
      "outputs": [],
      "source": [
        "df.sort_values('date', inplace=True)\n",
        "data = df[df['GroupId'] == TAG].drop('GroupId', axis=1)\n",
        "data = data.groupby('date').sum()\n",
        "\n",
        "\n",
        "ts = data['Quantity']"
      ],
      "id": "447f12d4"
    },
    {
      "cell_type": "markdown",
      "metadata": {
        "id": "9cd506ef"
      },
      "source": [
        "### 1.2 Данные\n",
        "Разделим данные на трейн и тест для обучения и тестирования результатов соотвественно."
      ],
      "id": "9cd506ef"
    },
    {
      "cell_type": "code",
      "execution_count": null,
      "metadata": {
        "id": "a42e64ba"
      },
      "outputs": [],
      "source": [
        "test_size = 14\n",
        "data_train = ts.iloc[:-test_size]\n",
        "data_test = ts.iloc[-test_size:]"
      ],
      "id": "a42e64ba"
    },
    {
      "cell_type": "markdown",
      "metadata": {
        "id": "bed08b07"
      },
      "source": [
        "Визуализируем полученные данные. Визуализировать данные нужно с самого начала. Это помогает провалидировать данные и выделить некоторые закономерности."
      ],
      "id": "bed08b07"
    },
    {
      "cell_type": "code",
      "execution_count": null,
      "metadata": {
        "id": "126b8968"
      },
      "outputs": [],
      "source": [
        "plt.figure(figsize=(15, 5))\n",
        "plt.title(f'Продажи товара тега {TAG}')\n",
        "plt.plot(data_train, label=\"train\")\n",
        "plt.plot(data_test, label=\"test\")\n",
        "plt.legend();"
      ],
      "id": "126b8968"
    },
    {
      "cell_type": "code",
      "execution_count": null,
      "metadata": {
        "id": "ce0130bb"
      },
      "outputs": [],
      "source": [
        "result = STL(data_train, period=7).fit()\n",
        "result.plot();"
      ],
      "id": "ce0130bb"
    },
    {
      "cell_type": "markdown",
      "metadata": {
        "id": "f42c0ea0"
      },
      "source": [
        "### Метрики\n",
        "Прежде чем ее решать, зададим метрики, по которым мы будем определять, какая из моделей лучше: RMSE, MAE, SMAPE."
      ],
      "id": "f42c0ea0"
    },
    {
      "cell_type": "code",
      "execution_count": null,
      "metadata": {
        "id": "0d936fb0"
      },
      "outputs": [],
      "source": [
        "compare_table = None"
      ],
      "id": "0d936fb0"
    },
    {
      "cell_type": "code",
      "execution_count": null,
      "metadata": {
        "id": "B9FlId12Rvab"
      },
      "outputs": [],
      "source": [
        "def calculate_smape(actual, predicted) -> float:\n",
        "    if not all([isinstance(actual, np.ndarray), \n",
        "                isinstance(predicted, np.ndarray)]):\n",
        "        actual, predicted = np.array(actual),\n",
        "        np.array(predicted)\n",
        "  \n",
        "    return round(\n",
        "        np.mean(\n",
        "            np.abs(predicted - actual) / \n",
        "            ((np.abs(predicted) + np.abs(actual))/2)\n",
        "        )*100, 2\n",
        "    )\n",
        "\n",
        "\n",
        "def add_results_in_comparison_table(\n",
        "    method: str, y_true, y_forecast\n",
        ") -> pd.DataFrame:\n",
        "    \"\"\"\n",
        "    Добавляет новую строчку в таблицу compare_table\n",
        "    с результатами текущей модели.\n",
        "\n",
        "    Если ранее модель была уже добавлена в таблицу,\n",
        "    то старая строчка перезапишется на новую.\n",
        "    \"\"\"\n",
        "\n",
        "    # Обращаемся к глобальной переменной\n",
        "    global compare_table\n",
        "\n",
        "    # Считаем метрики\n",
        "    result_row = {\n",
        "        \"method\": method,\n",
        "        \"RMSE\": mean_squared_error(y_true=y_true, y_pred=y_forecast, squared=False),\n",
        "        \"MAE\": mean_absolute_error(y_true=y_true, y_pred=y_forecast),\n",
        "        \"SMAPE\": calculate_smape(y_true, y_forecast)\n",
        "\n",
        "    }\n",
        "\n",
        "    # Записываем результат в таблицу\n",
        "    if compare_table is None:\n",
        "        compare_table = pd.DataFrame([result_row])\n",
        "    else:\n",
        "        if method in list(compare_table[\"method\"]):\n",
        "            compare_table = compare_table[compare_table[\"method\"] != method]\n",
        "\n",
        "        compare_table = pd.concat([compare_table, pd.DataFrame([result_row])])\n",
        "        compare_table.index = np.arange(len(compare_table))\n",
        "    return compare_table"
      ],
      "id": "B9FlId12Rvab"
    },
    {
      "cell_type": "code",
      "execution_count": null,
      "metadata": {
        "id": "e6a72475"
      },
      "outputs": [],
      "source": [
        "def plot_results(y_to_train, y_to_test, y_forecast, plot_conf_int=False,\n",
        "                 left_bound=None, right_bound=None):\n",
        "    \"\"\"\n",
        "        Функция для визуализации временного ряда и предсказания.\n",
        "    \"\"\"\n",
        "\n",
        "    plt.figure(figsize=(15, 5))\n",
        "    plt.title(f'Временной ряд продаж тега {TAG}', fontsize=15)\n",
        "    plt.plot(y_to_train, label='train')\n",
        "    plt.plot(y_to_test, label='test')\n",
        "    plt.plot(y_to_test.index, y_forecast, label='prediction')\n",
        "    if plot_conf_int:\n",
        "        plt.fill_between(y_to_test.index, \n",
        "                         left_bound, right_bound, \n",
        "                         alpha=0.3, color='grey',\n",
        "                         label='conf.int')\n",
        "    plt.legend()\n",
        "    plt.show()"
      ],
      "id": "e6a72475"
    },
    {
      "cell_type": "markdown",
      "metadata": {
        "id": "0d323098"
      },
      "source": [
        "### Работа с признаками 1\n",
        " ____\n",
        " "
      ],
      "id": "0d323098"
    },
    {
      "cell_type": "markdown",
      "metadata": {
        "id": "18257817"
      },
      "source": [
        "Для начала преобразуем дату, выделив из даты день, месяц, год и т.д. Для этого будем использовать функцию ниже."
      ],
      "id": "18257817"
    },
    {
      "cell_type": "code",
      "execution_count": null,
      "metadata": {
        "id": "2881b802"
      },
      "outputs": [],
      "source": [
        "def create_date_features(date):\n",
        "    \"\"\"Создает фичи из даты\"\"\"\n",
        "\n",
        "    row = {}\n",
        "    row[\"dayofweek\"] = date.dayofweek\n",
        "    row[\"quarter\"] = date.quarter\n",
        "    row[\"month\"] = date.month\n",
        "    row[\"year\"] = date.year\n",
        "    row[\"dayofyear\"] = date.dayofyear\n",
        "    row[\"dayofmonth\"] = date.day\n",
        "    row[\"weekofyear\"] = date.weekofyear\n",
        "    return row"
      ],
      "id": "2881b802"
    },
    {
      "cell_type": "code",
      "execution_count": null,
      "metadata": {
        "id": "d06d4da6"
      },
      "outputs": [],
      "source": [
        "def create_only_date_train_features(y_series):\n",
        "    \"\"\"\n",
        "    Создает обучающий датасет из признаков, полученных из дат для y_series\n",
        "    \"\"\"\n",
        "    time_features = pd.DataFrame(\n",
        "        [create_date_features(date) for date in y_series.index]\n",
        "    )\n",
        "    return time_features, y_series"
      ],
      "id": "d06d4da6"
    },
    {
      "cell_type": "code",
      "execution_count": null,
      "metadata": {
        "id": "2b8a7503"
      },
      "outputs": [],
      "source": [
        "X_train, y_train = create_only_date_train_features(data_train)\n",
        "display(X_train.head())\n",
        "display(y_train.head())"
      ],
      "id": "2b8a7503"
    },
    {
      "cell_type": "code",
      "source": [
        "def devide_df_by_day(dataframe: pd.DataFrame, time: int = 16) -> tuple[list[pd.Series], list[pd.Series]]:\n",
        "    \"\"\"\n",
        "    Бьёт датасет на train и test части по времени суток\n",
        "    \"\"\"\n",
        "    before_time = []\n",
        "    after_time = []\n",
        "    for date in dataframe['date'].unique():\n",
        "        day_bills = dataframe[dataframe['date'] == date]\n",
        "        if day_bills.shape[0] == 0:\n",
        "            continue\n",
        "        before = day_bills[day_bills['hour'] <= time].loc[:, ['Quantity', 'Price', 'CostPrice']].sum()\n",
        "        for time_feature_name in time_features:\n",
        "            before[time_feature_name] = day_bills.iloc[0].loc[time_feature_name]\n",
        "            \n",
        "        before_time.append(before)\n",
        "        \n",
        "        after = day_bills[day_bills['hour'] > time].loc[:, ['Quantity', 'Price', 'CostPrice']].sum()\n",
        "        after['date'] = day_bills.iloc[0].loc['date']\n",
        "        after_time.append(after)\n",
        "    \n",
        "    return before_time, after_time"
      ],
      "metadata": {
        "id": "9NMuFgPDx1zC"
      },
      "id": "9NMuFgPDx1zC",
      "execution_count": null,
      "outputs": []
    },
    {
      "cell_type": "code",
      "execution_count": null,
      "metadata": {
        "id": "5c5a3778"
      },
      "outputs": [],
      "source": [
        "def hybrid_prediction(\n",
        "    model, test_dates, y_to_train, features_creation_function\n",
        "):\n",
        "    \"\"\"\n",
        "    Функция для предсказания для дат, указанных в test_dates.\n",
        "    \"\"\"\n",
        "    predictions = []\n",
        "    previous_y = list(y_to_train)\n",
        "\n",
        "    for date in test_dates:\n",
        "        row = features_creation_function(date, previous_y)\n",
        "        curr_test = pd.DataFrame([row])\n",
        "        curr_prediction = round(model.predict(curr_test)[0])\n",
        "        previous_y.append(curr_prediction)\n",
        "        predictions.append(curr_prediction)\n",
        "    return np.array(predictions)"
      ],
      "id": "5c5a3778"
    },
    {
      "cell_type": "markdown",
      "metadata": {
        "id": "ba34ab58"
      },
      "source": [
        "Попробуем метод `RandomForest`. Обучим модель."
      ],
      "id": "ba34ab58"
    },
    {
      "cell_type": "code",
      "execution_count": null,
      "metadata": {
        "id": "1f0f20c2"
      },
      "outputs": [],
      "source": [
        "%%time\n",
        "random_forest = RandomForestRegressor(n_estimators=300, random_state=42)\n",
        "random_forest.fit(X_train, y_train)"
      ],
      "id": "1f0f20c2"
    },
    {
      "cell_type": "markdown",
      "metadata": {
        "id": "7a655452"
      },
      "source": [
        "Получим предсказания."
      ],
      "id": "7a655452"
    },
    {
      "cell_type": "code",
      "execution_count": null,
      "metadata": {
        "id": "0bc92c53"
      },
      "outputs": [],
      "source": [
        "random_forest_predictions = hybrid_prediction(\n",
        "    random_forest,\n",
        "    data_test.index,\n",
        "    data_train,\n",
        "    lambda date, previous_y: create_date_features(date),\n",
        ")"
      ],
      "id": "0bc92c53"
    },
    {
      "cell_type": "markdown",
      "metadata": {
        "id": "d05376b7"
      },
      "source": [
        "Отобразим результаты."
      ],
      "id": "d05376b7"
    },
    {
      "cell_type": "code",
      "execution_count": null,
      "metadata": {
        "id": "80874424"
      },
      "outputs": [],
      "source": [
        "plot_results(data_train, data_test, random_forest_predictions)"
      ],
      "id": "80874424"
    },
    {
      "cell_type": "code",
      "execution_count": null,
      "metadata": {
        "id": "0ac7b49a"
      },
      "outputs": [],
      "source": [
        "add_results_in_comparison_table(\n",
        "    \"RandomForest\", data_test.values, random_forest_predictions\n",
        ")"
      ],
      "id": "0ac7b49a"
    },
    {
      "cell_type": "markdown",
      "metadata": {
        "id": "62e7e244"
      },
      "source": [
        "Попробуем теперь `CatBoost`."
      ],
      "id": "62e7e244"
    },
    {
      "cell_type": "code",
      "execution_count": null,
      "metadata": {
        "id": "54b2c679"
      },
      "outputs": [],
      "source": [
        "%%time\n",
        "catboost_ = CatBoostRegressor()\n",
        "catboost_.fit(X_train, y_train, verbose=False)"
      ],
      "id": "54b2c679"
    },
    {
      "cell_type": "code",
      "execution_count": null,
      "metadata": {
        "id": "b983e950"
      },
      "outputs": [],
      "source": [
        "catboost_predictions = hybrid_prediction(\n",
        "    catboost_,\n",
        "    data_test.index,\n",
        "    data_train,\n",
        "    lambda date, previous_y: create_date_features(date),\n",
        ")"
      ],
      "id": "b983e950"
    },
    {
      "cell_type": "code",
      "execution_count": null,
      "metadata": {
        "id": "b32af1f9"
      },
      "outputs": [],
      "source": [
        "plot_results(data_train, data_test, catboost_predictions)"
      ],
      "id": "b32af1f9"
    },
    {
      "cell_type": "code",
      "execution_count": null,
      "metadata": {
        "id": "bc192e08"
      },
      "outputs": [],
      "source": [
        "add_results_in_comparison_table(\"CatBoost\", data_test.values, catboost_predictions)"
      ],
      "id": "bc192e08"
    },
    {
      "cell_type": "markdown",
      "metadata": {
        "id": "16ccc576"
      },
      "source": [
        "### Работа с признаками 2\n",
        " На этот раз добавим сдвиги по времени. Таким образом модель сможет использовать информацию из прошлого, для составления прогноза на будущее."
      ],
      "id": "16ccc576"
    },
    {
      "cell_type": "code",
      "execution_count": null,
      "metadata": {
        "id": "c12e8c67"
      },
      "outputs": [],
      "source": [
        "def create_date_and_shifted_train_features(\n",
        "    y_series, shifts=5, week_seasonal_shifts=2\n",
        "):\n",
        "    \"\"\"\n",
        "    Создает обучающий датасет из признаков, полученных из дат\n",
        "    и значений ряда ранее.\n",
        "    При этом используются значения ряда со сдвигами\n",
        "    на неделю и год назад.\n",
        "    \"\"\"\n",
        "\n",
        "    curr_df, y = create_only_date_train_features(y_series)\n",
        "    curr_df.index = y_series.index\n",
        "\n",
        "    # применяем сдвиг по дням\n",
        "    for shift in range(1, shifts + 1):\n",
        "        curr_df[f\"shift_{shift}\"] = y_series.shift(shift, axis=0)\n",
        "\n",
        "    # применяем сдвиг по неделям\n",
        "    for shift in range(1, week_seasonal_shifts + 1):\n",
        "        curr_df[f\"week_seasonal_shift_{shift}\"] = y_series.shift(\n",
        "            shift * 7, axis=0\n",
        "        )\n",
        "\n",
        "    y = y_series\n",
        "\n",
        "    # удалим первые строчки с nan\n",
        "    drop_indices = curr_df.index[curr_df.isna().sum(axis=1) > 0]\n",
        "    curr_df = curr_df.drop(index=drop_indices)\n",
        "    y = y.drop(index=drop_indices)\n",
        "    return curr_df, y"
      ],
      "id": "c12e8c67"
    },
    {
      "cell_type": "code",
      "execution_count": null,
      "metadata": {
        "id": "4fbfbc68"
      },
      "outputs": [],
      "source": [
        "def date_and_shift_features_generator_for_test(date, previous_y):\n",
        "    \"\"\"Функция создания признаков из дат и сдвигов ряда для тестовых дат\"\"\"\n",
        "\n",
        "    row = create_date_features(date)\n",
        "    for shift in range(1, SHIFT + 1):\n",
        "        row[f\"shift_{shift}\"] = previous_y[-1 * shift]\n",
        "    for shift in range(1, WEEK_SHIFT + 1):\n",
        "        row[f\"week_seasonal_shift_{shift}\"] = previous_y[-1 * shift * 7]\n",
        "    return row"
      ],
      "id": "4fbfbc68"
    },
    {
      "cell_type": "markdown",
      "metadata": {
        "id": "dc33fb13"
      },
      "source": [
        "Зададим сами сдвиги."
      ],
      "id": "dc33fb13"
    },
    {
      "cell_type": "code",
      "execution_count": null,
      "metadata": {
        "id": "760702d5"
      },
      "outputs": [],
      "source": [
        "SHIFT = 5  # дневной сдвиг\n",
        "WEEK_SHIFT = 2  # недельный сдвиг"
      ],
      "id": "760702d5"
    },
    {
      "cell_type": "markdown",
      "metadata": {
        "id": "b9120b51"
      },
      "source": [
        "Получим новые признаки."
      ],
      "id": "b9120b51"
    },
    {
      "cell_type": "code",
      "execution_count": null,
      "metadata": {
        "id": "545075d7"
      },
      "outputs": [],
      "source": [
        "X_train, y_train = create_date_and_shifted_train_features(\n",
        "    data_train,\n",
        "    shifts=SHIFT,\n",
        "    week_seasonal_shifts=WEEK_SHIFT,\n",
        ")"
      ],
      "id": "545075d7"
    },
    {
      "cell_type": "code",
      "execution_count": null,
      "metadata": {
        "id": "8809cd91"
      },
      "outputs": [],
      "source": [
        "X_train.head(3)"
      ],
      "id": "8809cd91"
    },
    {
      "cell_type": "code",
      "execution_count": null,
      "metadata": {
        "id": "ebbb02ce"
      },
      "outputs": [],
      "source": [
        "%%time\n",
        "shifted_features_random_forest = RandomForestRegressor(\n",
        "    n_estimators=300, random_state=42\n",
        ")\n",
        "shifted_features_random_forest.fit(X_train, y_train)"
      ],
      "id": "ebbb02ce"
    },
    {
      "cell_type": "code",
      "execution_count": null,
      "metadata": {
        "id": "e55c4294"
      },
      "outputs": [],
      "source": [
        "shifted_features_random_forest_predictions = hybrid_prediction(\n",
        "    shifted_features_random_forest,\n",
        "    data_test.index,\n",
        "    data_train,\n",
        "    date_and_shift_features_generator_for_test,\n",
        ")"
      ],
      "id": "e55c4294"
    },
    {
      "cell_type": "code",
      "execution_count": null,
      "metadata": {
        "id": "3eca7db1"
      },
      "outputs": [],
      "source": [
        "plot_results(\n",
        "    data_train,\n",
        "    data_test,\n",
        "    shifted_features_random_forest_predictions,\n",
        ")"
      ],
      "id": "3eca7db1"
    },
    {
      "cell_type": "markdown",
      "metadata": {
        "id": "443c3d95"
      },
      "source": [
        "Тяжело сказать, улучшился результат или нет."
      ],
      "id": "443c3d95"
    },
    {
      "cell_type": "code",
      "execution_count": null,
      "metadata": {
        "id": "58edea35"
      },
      "outputs": [],
      "source": [
        "add_results_in_comparison_table(\n",
        "    \"RandomForest + shift features\",\n",
        "    data_test.values,\n",
        "    shifted_features_random_forest_predictions,\n",
        ")"
      ],
      "id": "58edea35"
    },
    {
      "cell_type": "code",
      "execution_count": null,
      "metadata": {
        "id": "1dff22f2"
      },
      "outputs": [],
      "source": [
        "%%time\n",
        "shifted_features_catboost = CatBoostRegressor()\n",
        "shifted_features_catboost.fit(X_train, y_train, verbose=False)"
      ],
      "id": "1dff22f2"
    },
    {
      "cell_type": "code",
      "execution_count": null,
      "metadata": {
        "id": "e2dc4238"
      },
      "outputs": [],
      "source": [
        "shifted_features_ctb_predictions = hybrid_prediction(\n",
        "    shifted_features_catboost,\n",
        "    data_test.index,\n",
        "    data_train,\n",
        "    date_and_shift_features_generator_for_test,\n",
        ")"
      ],
      "id": "e2dc4238"
    },
    {
      "cell_type": "code",
      "execution_count": null,
      "metadata": {
        "id": "a1c27d9c"
      },
      "outputs": [],
      "source": [
        "plot_results(\n",
        "    data_train,\n",
        "    data_test,\n",
        "    shifted_features_ctb_predictions,\n",
        ")"
      ],
      "id": "a1c27d9c"
    },
    {
      "cell_type": "code",
      "execution_count": null,
      "metadata": {
        "id": "656cac53"
      },
      "outputs": [],
      "source": [
        "add_results_in_comparison_table(\n",
        "    \"CatBoost + shift features\", data_test.values, shifted_features_ctb_predictions\n",
        ")"
      ],
      "id": "656cac53"
    },
    {
      "cell_type": "markdown",
      "metadata": {
        "id": "1572558a"
      },
      "source": [
        "### Работа с признаками 3\n",
        "Еще немного поэксперементируем с признаками. На этот раз добавим признаки скользящего среднего, максимума и минимума."
      ],
      "id": "1572558a"
    },
    {
      "cell_type": "code",
      "execution_count": null,
      "metadata": {
        "id": "1ebc31e8"
      },
      "outputs": [],
      "source": [
        "def create_date_shifted_and_rolling_train_features(\n",
        "    y_series, shifts=5, week_seasonal_shifts=2\n",
        "):\n",
        "    \"\"\"\n",
        "    Создает обучающий датасет из признаков, полученных из дат\n",
        "    и значений ряда ранее.\n",
        "    Используются занчения ряда со сдвигами на неделю и год назад.\n",
        "    Также добавлены признаки скользящего среднего, минимума и максимума.\n",
        "\n",
        "    \"\"\"\n",
        "\n",
        "    curr_df, y = create_date_and_shifted_train_features(\n",
        "        y_series,\n",
        "        shifts=shifts,\n",
        "        week_seasonal_shifts=week_seasonal_shifts\n",
        "    )\n",
        "\n",
        "    curr_df[\"rolling_mean\"] = (\n",
        "        y_series.rolling(shifts, min_periods=1).mean().shift(1, axis=0)\n",
        "    )\n",
        "    curr_df[\"rolling_max\"] = (\n",
        "        y_series.rolling(shifts, min_periods=1).max().shift(1, axis=0)\n",
        "    )\n",
        "    curr_df[\"rolling_min\"] = (\n",
        "        y_series.rolling(shifts, min_periods=1).min().shift(1, axis=0)\n",
        "    )\n",
        "\n",
        "    drop_indices = curr_df.index[curr_df.isna().sum(axis=1) > 0]\n",
        "    curr_df = curr_df.drop(index=drop_indices)\n",
        "    y = y.drop(index=drop_indices)\n",
        "    return curr_df, y"
      ],
      "id": "1ebc31e8"
    },
    {
      "cell_type": "code",
      "execution_count": null,
      "metadata": {
        "id": "719feae6"
      },
      "outputs": [],
      "source": [
        "def date_shifted_and_rolling_features_generator_for_test(date, previous_y):\n",
        "    \"\"\"Функция создания признаков из дат исдвигов ряда для тестовых дат\"\"\"\n",
        "\n",
        "    row = date_and_shift_features_generator_for_test(date, previous_y)\n",
        "    row[\"rolling_mean\"] = np.mean(previous_y[-SHIFT:])\n",
        "    row[\"rolling_max\"] = np.max(previous_y[-SHIFT:])\n",
        "    row[\"rolling_min\"] = np.min(previous_y[-SHIFT:])\n",
        "    return row"
      ],
      "id": "719feae6"
    },
    {
      "cell_type": "code",
      "execution_count": null,
      "metadata": {
        "id": "b6a850c6"
      },
      "outputs": [],
      "source": [
        "X_train, y_train = create_date_shifted_and_rolling_train_features(\n",
        "    data_train,\n",
        "    shifts=SHIFT,\n",
        "    week_seasonal_shifts=WEEK_SHIFT,\n",
        ")"
      ],
      "id": "b6a850c6"
    },
    {
      "cell_type": "code",
      "execution_count": null,
      "metadata": {
        "id": "ed3767ad"
      },
      "outputs": [],
      "source": [
        "advanced_features_random_forest = RandomForestRegressor(\n",
        "    n_estimators=300, random_state=42\n",
        ")\n",
        "advanced_features_random_forest.fit(X_train, y_train)"
      ],
      "id": "ed3767ad"
    },
    {
      "cell_type": "code",
      "execution_count": null,
      "metadata": {
        "id": "89381d85"
      },
      "outputs": [],
      "source": [
        "advanced_features_random_forest_predictions = hybrid_prediction(\n",
        "    advanced_features_random_forest,\n",
        "    data_test.index,\n",
        "    data_train,\n",
        "    date_shifted_and_rolling_features_generator_for_test,\n",
        ")"
      ],
      "id": "89381d85"
    },
    {
      "cell_type": "code",
      "execution_count": null,
      "metadata": {
        "id": "9ca2803c"
      },
      "outputs": [],
      "source": [
        "plot_results(\n",
        "    data_train,\n",
        "    data_test,\n",
        "    advanced_features_random_forest_predictions,\n",
        ")"
      ],
      "id": "9ca2803c"
    },
    {
      "cell_type": "code",
      "execution_count": null,
      "metadata": {
        "id": "6b9fd0df"
      },
      "outputs": [],
      "source": [
        "add_results_in_comparison_table(\n",
        "    \"RandomForest, advanced features\",\n",
        "    data_test.values,\n",
        "    advanced_features_random_forest_predictions,\n",
        ")"
      ],
      "id": "6b9fd0df"
    },
    {
      "cell_type": "markdown",
      "metadata": {
        "id": "9b4367b7"
      },
      "source": [
        "Применим теперь `CatBoost` к датасету с новыми признаками."
      ],
      "id": "9b4367b7"
    },
    {
      "cell_type": "code",
      "execution_count": null,
      "metadata": {
        "id": "7a14f077"
      },
      "outputs": [],
      "source": [
        "advanced_features_catboost = CatBoostRegressor()\n",
        "advanced_features_catboost.fit(X_train, y_train, verbose=False)"
      ],
      "id": "7a14f077"
    },
    {
      "cell_type": "code",
      "execution_count": null,
      "metadata": {
        "id": "430ee3d8"
      },
      "outputs": [],
      "source": [
        "advanced_features_ctb_predictions = hybrid_prediction(\n",
        "    advanced_features_catboost,\n",
        "    data_test.index,\n",
        "    data_train,\n",
        "    date_shifted_and_rolling_features_generator_for_test,\n",
        ")"
      ],
      "id": "430ee3d8"
    },
    {
      "cell_type": "code",
      "execution_count": null,
      "metadata": {
        "id": "7f27619c"
      },
      "outputs": [],
      "source": [
        "plot_results(\n",
        "    data_train,\n",
        "    data_test,\n",
        "    advanced_features_ctb_predictions,\n",
        ")"
      ],
      "id": "7f27619c"
    },
    {
      "cell_type": "code",
      "execution_count": null,
      "metadata": {
        "id": "378ba969"
      },
      "outputs": [],
      "source": [
        "add_results_in_comparison_table(\n",
        "    \"CatBoost, advanced features\", data_test.values, advanced_features_ctb_predictions\n",
        ")"
      ],
      "id": "378ba969"
    },
    {
      "cell_type": "code",
      "execution_count": null,
      "metadata": {
        "id": "iKkeQzuTHPFz"
      },
      "outputs": [],
      "source": [
        "tbats_estimator = TBATS()\n",
        "model = tbats_estimator.fit(data_train)"
      ],
      "id": "iKkeQzuTHPFz"
    },
    {
      "cell_type": "code",
      "execution_count": null,
      "metadata": {
        "id": "fPkDYhZHHV19"
      },
      "outputs": [],
      "source": [
        "print(model.summary())"
      ],
      "id": "fPkDYhZHHV19"
    },
    {
      "cell_type": "code",
      "execution_count": null,
      "metadata": {
        "id": "utYbx6BmHZX6"
      },
      "outputs": [],
      "source": [
        "tbats_forecast, confidence_info = model.forecast(steps=14, confidence_level=0.95)"
      ],
      "id": "utYbx6BmHZX6"
    },
    {
      "cell_type": "code",
      "execution_count": null,
      "metadata": {
        "id": "fomCQOCYHcm6"
      },
      "outputs": [],
      "source": [
        "plot_results(data_train, data_test, np.round(tbats_forecast), plot_conf_int=True,\n",
        "             left_bound=confidence_info['lower_bound'],\n",
        "             right_bound=confidence_info['upper_bound'])"
      ],
      "id": "fomCQOCYHcm6"
    },
    {
      "cell_type": "code",
      "execution_count": null,
      "metadata": {
        "id": "A_6LletrHe9j"
      },
      "outputs": [],
      "source": [
        "add_results_in_comparison_table('TBATS model', data_test.values, np.round(tbats_forecast))"
      ],
      "id": "A_6LletrHe9j"
    },
    {
      "cell_type": "code",
      "execution_count": null,
      "metadata": {
        "id": "qb5U_Or0PpI5"
      },
      "outputs": [],
      "source": [
        "tbats_estimator = TBATS()\n",
        "tbats_estimator.fit(data_train[-69:])\n"
      ],
      "id": "qb5U_Or0PpI5"
    },
    {
      "cell_type": "code",
      "execution_count": null,
      "metadata": {
        "id": "XHImGP-4QV4L"
      },
      "outputs": [],
      "source": [
        "tbats_forecast, confidence_info = model.forecast(steps=14, confidence_level=0.95)"
      ],
      "id": "XHImGP-4QV4L"
    },
    {
      "cell_type": "code",
      "execution_count": null,
      "metadata": {
        "id": "XV0kiFJZQbA7"
      },
      "outputs": [],
      "source": [
        "plot_results(data_train[-55:], data_test, tbats_forecast, plot_conf_int=True,\n",
        "             left_bound=confidence_info['lower_bound'],\n",
        "             right_bound=confidence_info['upper_bound'])"
      ],
      "id": "XV0kiFJZQbA7"
    },
    {
      "cell_type": "code",
      "execution_count": null,
      "metadata": {
        "id": "iH3mEUz6QhM0"
      },
      "outputs": [],
      "source": [
        "add_results_in_comparison_table('TBATS model after november', data_test.values, np.round(tbats_forecast))"
      ],
      "id": "iH3mEUz6QhM0"
    },
    {
      "cell_type": "code",
      "execution_count": null,
      "metadata": {
        "id": "zLITe2q7Q2Jt"
      },
      "outputs": [],
      "source": [
        "from sklearn.svm import SVC, SVR\n",
        "\n",
        "svc_model = SVC()\n",
        "svc_model.fit(X_train, y_train)\n",
        "\n",
        "advanced_features_svc_predictions = hybrid_prediction(\n",
        "    svc_model,\n",
        "    data_test.index,\n",
        "    data_train,\n",
        "    date_shifted_and_rolling_features_generator_for_test,\n",
        ")\n",
        "\n"
      ],
      "id": "zLITe2q7Q2Jt"
    },
    {
      "cell_type": "code",
      "execution_count": null,
      "metadata": {
        "id": "AJso3w23UDYV"
      },
      "outputs": [],
      "source": [
        "plot_results(data_train, data_test, advanced_features_svc_predictions, plot_conf_int=False)"
      ],
      "id": "AJso3w23UDYV"
    },
    {
      "cell_type": "code",
      "execution_count": null,
      "metadata": {
        "id": "0HgVyj7JUIIS"
      },
      "outputs": [],
      "source": [
        "add_results_in_comparison_table('SVC', data_test.values, np.round(advanced_features_svc_predictions))"
      ],
      "id": "0HgVyj7JUIIS"
    },
    {
      "cell_type": "code",
      "execution_count": null,
      "metadata": {
        "id": "16UYEekGUhUw"
      },
      "outputs": [],
      "source": [
        "from sklearn.linear_model import PoissonRegressor\n",
        "\n",
        "pois_model = PoissonRegressor()\n",
        "pois_model.fit(X_train, y_train)\n",
        "\n",
        "advanced_features_pois_predictions = hybrid_prediction(\n",
        "    pois_model,\n",
        "    data_test.index,\n",
        "    data_train,\n",
        "    date_shifted_and_rolling_features_generator_for_test,\n",
        ")\n",
        "\n"
      ],
      "id": "16UYEekGUhUw"
    },
    {
      "cell_type": "code",
      "execution_count": null,
      "metadata": {
        "id": "0Lw2zQXjUvaH"
      },
      "outputs": [],
      "source": [
        "plot_results(data_train, data_test, advanced_features_pois_predictions)"
      ],
      "id": "0Lw2zQXjUvaH"
    },
    {
      "cell_type": "code",
      "execution_count": null,
      "metadata": {
        "id": "C-7leW_VUys7"
      },
      "outputs": [],
      "source": [
        "add_results_in_comparison_table('Pois base', data_test.values, np.round(advanced_features_pois_predictions))"
      ],
      "id": "C-7leW_VUys7"
    },
    {
      "cell_type": "code",
      "execution_count": null,
      "metadata": {
        "id": "4LyehnEmWfI-"
      },
      "outputs": [],
      "source": [
        "pois_model = PoissonRegressor(solver='newton-cholesky')\n",
        "pois_model.fit(X_train, y_train)\n",
        "\n",
        "advanced_features_pois_predictions = hybrid_prediction(\n",
        "    pois_model,\n",
        "    data_test.index,\n",
        "    data_train,\n",
        "    date_shifted_and_rolling_features_generator_for_test,\n",
        ")\n"
      ],
      "id": "4LyehnEmWfI-"
    },
    {
      "cell_type": "code",
      "execution_count": null,
      "metadata": {
        "id": "0gAwSiDyWqvf"
      },
      "outputs": [],
      "source": [
        "plot_results(data_train, data_test, advanced_features_pois_predictions)"
      ],
      "id": "0gAwSiDyWqvf"
    },
    {
      "cell_type": "code",
      "execution_count": null,
      "metadata": {
        "id": "QpjFcepcWtYt"
      },
      "outputs": [],
      "source": [
        "add_results_in_comparison_table('Pois NH', data_test.values, np.round(advanced_features_pois_predictions))"
      ],
      "id": "QpjFcepcWtYt"
    },
    {
      "cell_type": "code",
      "source": [
        "def count_losses(max_capacity, strategy_predicted):\n",
        "     \"\"\"\n",
        "     Считает остатки при заданной стратегии с заданной максимальной вместимостью\n",
        "     \"\"\"\n",
        "    return (max_capacity - strategy_predicted).sum()\n",
        "\n",
        "def print_results_for_all_strategies(prediction):\n",
        "    \"\"\"\n",
        "    Считает и выводит результаты по всем стратегиям\n",
        "    \"\"\"\n",
        "    max_cap = int(max(data_train[-14:].max(), data_test.max()))\n",
        "    print(max_cap)\n",
        "\n",
        "    raw_results = count_losses(max_cap, prediction)\n",
        "    print('Losses for raw predictions:', raw_results)\n",
        "\n",
        "    min_for_all_consts, best_const = 10000000, 0\n",
        "    for const in range(1, max_cap):\n",
        "        res = count_losses(max_cap, prediction + const)\n",
        "        if res < min_for_all_consts and res > 0:\n",
        "            min_for_all_consts = res\n",
        "            best_const = const\n",
        "    print(f'Losses for predictions with const = {best_const}: {min_for_all_consts}')\n",
        "\n",
        "    noise = prediction.std()\n",
        "    random_noises = np.round(np.random.uniform(-noise, noise, prediction.shape[0]))\n",
        "    print('noise:', noise)\n",
        "    random_res = count_losses(max_cap, prediction + random_noises)\n",
        "    print('Losses for predictions with noise:', random_res)"
      ],
      "metadata": {
        "id": "JDy202SOFAW-"
      },
      "id": "JDy202SOFAW-",
      "execution_count": null,
      "outputs": []
    },
    {
      "cell_type": "code",
      "source": [
        "count_losses(int(max(data_train[-14:].max(), data_test.max())), data_test)"
      ],
      "metadata": {
        "id": "1vnrQlf5qWZ_"
      },
      "id": "1vnrQlf5qWZ_",
      "execution_count": null,
      "outputs": []
    },
    {
      "cell_type": "code",
      "source": [
        "print_results_for_all_strategies(shifted_features_ctb_predictions)"
      ],
      "metadata": {
        "id": "uEj9TcERJDSa"
      },
      "id": "uEj9TcERJDSa",
      "execution_count": null,
      "outputs": []
    }
  ],
  "metadata": {
    "colab": {
      "provenance": []
    },
    "kernelspec": {
      "display_name": "Python 3 (ipykernel)",
      "language": "python",
      "name": "python3"
    },
    "language_info": {
      "codemirror_mode": {
        "name": "ipython",
        "version": 3
      },
      "file_extension": ".py",
      "mimetype": "text/x-python",
      "name": "python",
      "nbconvert_exporter": "python",
      "pygments_lexer": "ipython3",
      "version": "3.9.7"
    },
    "varInspector": {
      "cols": {
        "lenName": 16,
        "lenType": 16,
        "lenVar": 40
      },
      "kernels_config": {
        "python": {
          "delete_cmd_postfix": "",
          "delete_cmd_prefix": "del ",
          "library": "var_list.py",
          "varRefreshCmd": "print(var_dic_list())"
        },
        "r": {
          "delete_cmd_postfix": ") ",
          "delete_cmd_prefix": "rm(",
          "library": "var_list.r",
          "varRefreshCmd": "cat(var_dic_list()) "
        }
      },
      "types_to_exclude": [
        "module",
        "function",
        "builtin_function_or_method",
        "instance",
        "_Feature"
      ],
      "window_display": false
    }
  },
  "nbformat": 4,
  "nbformat_minor": 5
}